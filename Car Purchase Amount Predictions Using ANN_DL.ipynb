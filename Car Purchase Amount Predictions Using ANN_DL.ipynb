{
 "cells": [
  {
   "cell_type": "markdown",
   "metadata": {},
   "source": [
    "# CODE TO PREDICT CAR PURCHASING DOLLAR AMOUNT USING ANNs (REGRESSION TASK)"
   ]
  },
  {
   "cell_type": "code",
   "execution_count": null,
   "metadata": {},
   "outputs": [],
   "source": [
    "import pandas as pd"
   ]
  },
  {
   "cell_type": "code",
   "execution_count": 212,
   "metadata": {},
   "outputs": [],
   "source": [
    "df=pd.read_csv(\"Car_Purchasing_Data.csv\",encoding='ISO-8859-1')"
   ]
  },
  {
   "cell_type": "code",
   "execution_count": 213,
   "metadata": {},
   "outputs": [
    {
     "data": {
      "text/html": [
       "<div>\n",
       "<style scoped>\n",
       "    .dataframe tbody tr th:only-of-type {\n",
       "        vertical-align: middle;\n",
       "    }\n",
       "\n",
       "    .dataframe tbody tr th {\n",
       "        vertical-align: top;\n",
       "    }\n",
       "\n",
       "    .dataframe thead th {\n",
       "        text-align: right;\n",
       "    }\n",
       "</style>\n",
       "<table border=\"1\" class=\"dataframe\">\n",
       "  <thead>\n",
       "    <tr style=\"text-align: right;\">\n",
       "      <th></th>\n",
       "      <th>Customer Name</th>\n",
       "      <th>Customer e-mail</th>\n",
       "      <th>Country</th>\n",
       "      <th>Gender</th>\n",
       "      <th>Age</th>\n",
       "      <th>Annual Salary</th>\n",
       "      <th>Credit Card Debt</th>\n",
       "      <th>Net Worth</th>\n",
       "      <th>Car Purchase Amount</th>\n",
       "    </tr>\n",
       "  </thead>\n",
       "  <tbody>\n",
       "    <tr>\n",
       "      <th>0</th>\n",
       "      <td>Martina Avila</td>\n",
       "      <td>cubilia.Curae.Phasellus@quisaccumsanconvallis.edu</td>\n",
       "      <td>Bulgaria</td>\n",
       "      <td>0</td>\n",
       "      <td>41.851720</td>\n",
       "      <td>62812.09301</td>\n",
       "      <td>11609.380910</td>\n",
       "      <td>238961.2505</td>\n",
       "      <td>35321.45877</td>\n",
       "    </tr>\n",
       "    <tr>\n",
       "      <th>1</th>\n",
       "      <td>Harlan Barnes</td>\n",
       "      <td>eu.dolor@diam.co.uk</td>\n",
       "      <td>Belize</td>\n",
       "      <td>0</td>\n",
       "      <td>40.870623</td>\n",
       "      <td>66646.89292</td>\n",
       "      <td>9572.957136</td>\n",
       "      <td>530973.9078</td>\n",
       "      <td>45115.52566</td>\n",
       "    </tr>\n",
       "    <tr>\n",
       "      <th>2</th>\n",
       "      <td>Naomi Rodriquez</td>\n",
       "      <td>vulputate.mauris.sagittis@ametconsectetueradip...</td>\n",
       "      <td>Algeria</td>\n",
       "      <td>1</td>\n",
       "      <td>43.152897</td>\n",
       "      <td>53798.55112</td>\n",
       "      <td>11160.355060</td>\n",
       "      <td>638467.1773</td>\n",
       "      <td>42925.70921</td>\n",
       "    </tr>\n",
       "    <tr>\n",
       "      <th>3</th>\n",
       "      <td>Jade Cunningham</td>\n",
       "      <td>malesuada@dignissim.com</td>\n",
       "      <td>Cook Islands</td>\n",
       "      <td>1</td>\n",
       "      <td>58.271369</td>\n",
       "      <td>79370.03798</td>\n",
       "      <td>14426.164850</td>\n",
       "      <td>548599.0524</td>\n",
       "      <td>67422.36313</td>\n",
       "    </tr>\n",
       "    <tr>\n",
       "      <th>4</th>\n",
       "      <td>Cedric Leach</td>\n",
       "      <td>felis.ullamcorper.viverra@egetmollislectus.net</td>\n",
       "      <td>Brazil</td>\n",
       "      <td>1</td>\n",
       "      <td>57.313749</td>\n",
       "      <td>59729.15130</td>\n",
       "      <td>5358.712177</td>\n",
       "      <td>560304.0671</td>\n",
       "      <td>55915.46248</td>\n",
       "    </tr>\n",
       "  </tbody>\n",
       "</table>\n",
       "</div>"
      ],
      "text/plain": [
       "     Customer Name                                    Customer e-mail  \\\n",
       "0    Martina Avila  cubilia.Curae.Phasellus@quisaccumsanconvallis.edu   \n",
       "1    Harlan Barnes                                eu.dolor@diam.co.uk   \n",
       "2  Naomi Rodriquez  vulputate.mauris.sagittis@ametconsectetueradip...   \n",
       "3  Jade Cunningham                            malesuada@dignissim.com   \n",
       "4     Cedric Leach     felis.ullamcorper.viverra@egetmollislectus.net   \n",
       "\n",
       "        Country  Gender        Age  Annual Salary  Credit Card Debt  \\\n",
       "0      Bulgaria       0  41.851720    62812.09301      11609.380910   \n",
       "1        Belize       0  40.870623    66646.89292       9572.957136   \n",
       "2       Algeria       1  43.152897    53798.55112      11160.355060   \n",
       "3  Cook Islands       1  58.271369    79370.03798      14426.164850   \n",
       "4        Brazil       1  57.313749    59729.15130       5358.712177   \n",
       "\n",
       "     Net Worth  Car Purchase Amount  \n",
       "0  238961.2505          35321.45877  \n",
       "1  530973.9078          45115.52566  \n",
       "2  638467.1773          42925.70921  \n",
       "3  548599.0524          67422.36313  \n",
       "4  560304.0671          55915.46248  "
      ]
     },
     "execution_count": 213,
     "metadata": {},
     "output_type": "execute_result"
    }
   ],
   "source": [
    "df.head()"
   ]
  },
  {
   "cell_type": "code",
   "execution_count": 214,
   "metadata": {},
   "outputs": [],
   "source": [
    "df2=df.drop([\"Customer Name\",\"Customer e-mail\",\"Country\"],axis=1)"
   ]
  },
  {
   "cell_type": "code",
   "execution_count": 215,
   "metadata": {},
   "outputs": [
    {
     "data": {
      "text/html": [
       "<div>\n",
       "<style scoped>\n",
       "    .dataframe tbody tr th:only-of-type {\n",
       "        vertical-align: middle;\n",
       "    }\n",
       "\n",
       "    .dataframe tbody tr th {\n",
       "        vertical-align: top;\n",
       "    }\n",
       "\n",
       "    .dataframe thead th {\n",
       "        text-align: right;\n",
       "    }\n",
       "</style>\n",
       "<table border=\"1\" class=\"dataframe\">\n",
       "  <thead>\n",
       "    <tr style=\"text-align: right;\">\n",
       "      <th></th>\n",
       "      <th>Gender</th>\n",
       "      <th>Age</th>\n",
       "      <th>Annual Salary</th>\n",
       "      <th>Credit Card Debt</th>\n",
       "      <th>Net Worth</th>\n",
       "      <th>Car Purchase Amount</th>\n",
       "    </tr>\n",
       "  </thead>\n",
       "  <tbody>\n",
       "    <tr>\n",
       "      <th>0</th>\n",
       "      <td>0</td>\n",
       "      <td>41.851720</td>\n",
       "      <td>62812.09301</td>\n",
       "      <td>11609.380910</td>\n",
       "      <td>238961.2505</td>\n",
       "      <td>35321.45877</td>\n",
       "    </tr>\n",
       "    <tr>\n",
       "      <th>1</th>\n",
       "      <td>0</td>\n",
       "      <td>40.870623</td>\n",
       "      <td>66646.89292</td>\n",
       "      <td>9572.957136</td>\n",
       "      <td>530973.9078</td>\n",
       "      <td>45115.52566</td>\n",
       "    </tr>\n",
       "    <tr>\n",
       "      <th>2</th>\n",
       "      <td>1</td>\n",
       "      <td>43.152897</td>\n",
       "      <td>53798.55112</td>\n",
       "      <td>11160.355060</td>\n",
       "      <td>638467.1773</td>\n",
       "      <td>42925.70921</td>\n",
       "    </tr>\n",
       "    <tr>\n",
       "      <th>3</th>\n",
       "      <td>1</td>\n",
       "      <td>58.271369</td>\n",
       "      <td>79370.03798</td>\n",
       "      <td>14426.164850</td>\n",
       "      <td>548599.0524</td>\n",
       "      <td>67422.36313</td>\n",
       "    </tr>\n",
       "    <tr>\n",
       "      <th>4</th>\n",
       "      <td>1</td>\n",
       "      <td>57.313749</td>\n",
       "      <td>59729.15130</td>\n",
       "      <td>5358.712177</td>\n",
       "      <td>560304.0671</td>\n",
       "      <td>55915.46248</td>\n",
       "    </tr>\n",
       "  </tbody>\n",
       "</table>\n",
       "</div>"
      ],
      "text/plain": [
       "   Gender        Age  Annual Salary  Credit Card Debt    Net Worth  \\\n",
       "0       0  41.851720    62812.09301      11609.380910  238961.2505   \n",
       "1       0  40.870623    66646.89292       9572.957136  530973.9078   \n",
       "2       1  43.152897    53798.55112      11160.355060  638467.1773   \n",
       "3       1  58.271369    79370.03798      14426.164850  548599.0524   \n",
       "4       1  57.313749    59729.15130       5358.712177  560304.0671   \n",
       "\n",
       "   Car Purchase Amount  \n",
       "0          35321.45877  \n",
       "1          45115.52566  \n",
       "2          42925.70921  \n",
       "3          67422.36313  \n",
       "4          55915.46248  "
      ]
     },
     "execution_count": 215,
     "metadata": {},
     "output_type": "execute_result"
    }
   ],
   "source": [
    "df2.head()"
   ]
  },
  {
   "cell_type": "code",
   "execution_count": 216,
   "metadata": {},
   "outputs": [
    {
     "data": {
      "text/plain": [
       "Gender                 0\n",
       "Age                    0\n",
       "Annual Salary          0\n",
       "Credit Card Debt       0\n",
       "Net Worth              0\n",
       "Car Purchase Amount    0\n",
       "dtype: int64"
      ]
     },
     "execution_count": 216,
     "metadata": {},
     "output_type": "execute_result"
    }
   ],
   "source": [
    "df2.isnull().sum()"
   ]
  },
  {
   "cell_type": "code",
   "execution_count": 217,
   "metadata": {},
   "outputs": [],
   "source": [
    "X=df2.drop([\"Car Purchase Amount\"],axis=1)"
   ]
  },
  {
   "cell_type": "code",
   "execution_count": 218,
   "metadata": {},
   "outputs": [],
   "source": [
    "y=df2[\"Car Purchase Amount\"]"
   ]
  },
  {
   "cell_type": "code",
   "execution_count": 219,
   "metadata": {},
   "outputs": [],
   "source": [
    "y=y.values.reshape(-1,1)"
   ]
  },
  {
   "cell_type": "code",
   "execution_count": 220,
   "metadata": {},
   "outputs": [],
   "source": [
    "from sklearn.preprocessing import StandardScaler"
   ]
  },
  {
   "cell_type": "code",
   "execution_count": 221,
   "metadata": {},
   "outputs": [],
   "source": [
    "from sklearn.model_selection import train_test_split"
   ]
  },
  {
   "cell_type": "code",
   "execution_count": 222,
   "metadata": {},
   "outputs": [
    {
     "data": {
      "text/plain": [
       "(500, 6)"
      ]
     },
     "execution_count": 222,
     "metadata": {},
     "output_type": "execute_result"
    }
   ],
   "source": [
    "df2.shape"
   ]
  },
  {
   "cell_type": "code",
   "execution_count": 223,
   "metadata": {},
   "outputs": [],
   "source": [
    "X_train,X_test,y_train,y_test=train_test_split(X,y,test_size=0.3,random_state=42)"
   ]
  },
  {
   "cell_type": "code",
   "execution_count": 224,
   "metadata": {},
   "outputs": [],
   "source": [
    "sc=StandardScaler()"
   ]
  },
  {
   "cell_type": "code",
   "execution_count": 225,
   "metadata": {},
   "outputs": [
    {
     "name": "stderr",
     "output_type": "stream",
     "text": [
      "C:\\Users\\SK SUJAN ISLAM\\anaconda3\\lib\\site-packages\\pandas\\core\\indexing.py:1736: SettingWithCopyWarning: \n",
      "A value is trying to be set on a copy of a slice from a DataFrame.\n",
      "Try using .loc[row_indexer,col_indexer] = value instead\n",
      "\n",
      "See the caveats in the documentation: https://pandas.pydata.org/pandas-docs/stable/user_guide/indexing.html#returning-a-view-versus-a-copy\n",
      "  isetter(loc, value[:, i].tolist())\n"
     ]
    }
   ],
   "source": [
    "X_train.iloc[:,1:]=sc.fit_transform(X_train.iloc[:,1:])"
   ]
  },
  {
   "cell_type": "code",
   "execution_count": 226,
   "metadata": {},
   "outputs": [
    {
     "data": {
      "text/html": [
       "<div>\n",
       "<style scoped>\n",
       "    .dataframe tbody tr th:only-of-type {\n",
       "        vertical-align: middle;\n",
       "    }\n",
       "\n",
       "    .dataframe tbody tr th {\n",
       "        vertical-align: top;\n",
       "    }\n",
       "\n",
       "    .dataframe thead th {\n",
       "        text-align: right;\n",
       "    }\n",
       "</style>\n",
       "<table border=\"1\" class=\"dataframe\">\n",
       "  <thead>\n",
       "    <tr style=\"text-align: right;\">\n",
       "      <th></th>\n",
       "      <th>Gender</th>\n",
       "      <th>Age</th>\n",
       "      <th>Annual Salary</th>\n",
       "      <th>Credit Card Debt</th>\n",
       "      <th>Net Worth</th>\n",
       "    </tr>\n",
       "  </thead>\n",
       "  <tbody>\n",
       "    <tr>\n",
       "      <th>5</th>\n",
       "      <td>1</td>\n",
       "      <td>1.374617</td>\n",
       "      <td>0.544280</td>\n",
       "      <td>1.345082</td>\n",
       "      <td>-0.024128</td>\n",
       "    </tr>\n",
       "    <tr>\n",
       "      <th>116</th>\n",
       "      <td>1</td>\n",
       "      <td>-0.352471</td>\n",
       "      <td>0.600479</td>\n",
       "      <td>-0.971706</td>\n",
       "      <td>-0.602569</td>\n",
       "    </tr>\n",
       "    <tr>\n",
       "      <th>45</th>\n",
       "      <td>0</td>\n",
       "      <td>1.180577</td>\n",
       "      <td>0.734628</td>\n",
       "      <td>0.199726</td>\n",
       "      <td>2.370075</td>\n",
       "    </tr>\n",
       "    <tr>\n",
       "      <th>16</th>\n",
       "      <td>0</td>\n",
       "      <td>-0.138225</td>\n",
       "      <td>0.108236</td>\n",
       "      <td>0.581179</td>\n",
       "      <td>-0.351264</td>\n",
       "    </tr>\n",
       "    <tr>\n",
       "      <th>462</th>\n",
       "      <td>0</td>\n",
       "      <td>-0.839532</td>\n",
       "      <td>0.392864</td>\n",
       "      <td>0.230410</td>\n",
       "      <td>0.698815</td>\n",
       "    </tr>\n",
       "    <tr>\n",
       "      <th>...</th>\n",
       "      <td>...</td>\n",
       "      <td>...</td>\n",
       "      <td>...</td>\n",
       "      <td>...</td>\n",
       "      <td>...</td>\n",
       "    </tr>\n",
       "    <tr>\n",
       "      <th>106</th>\n",
       "      <td>0</td>\n",
       "      <td>-0.507109</td>\n",
       "      <td>-0.905691</td>\n",
       "      <td>0.843400</td>\n",
       "      <td>0.099215</td>\n",
       "    </tr>\n",
       "    <tr>\n",
       "      <th>270</th>\n",
       "      <td>0</td>\n",
       "      <td>-1.311047</td>\n",
       "      <td>-2.374640</td>\n",
       "      <td>-0.251323</td>\n",
       "      <td>-1.247131</td>\n",
       "    </tr>\n",
       "    <tr>\n",
       "      <th>348</th>\n",
       "      <td>0</td>\n",
       "      <td>-0.067640</td>\n",
       "      <td>0.133297</td>\n",
       "      <td>-1.629033</td>\n",
       "      <td>0.986245</td>\n",
       "    </tr>\n",
       "    <tr>\n",
       "      <th>435</th>\n",
       "      <td>1</td>\n",
       "      <td>1.518530</td>\n",
       "      <td>-1.710061</td>\n",
       "      <td>-0.353579</td>\n",
       "      <td>-0.064458</td>\n",
       "    </tr>\n",
       "    <tr>\n",
       "      <th>102</th>\n",
       "      <td>1</td>\n",
       "      <td>-1.922410</td>\n",
       "      <td>0.526749</td>\n",
       "      <td>-0.596519</td>\n",
       "      <td>-0.159351</td>\n",
       "    </tr>\n",
       "  </tbody>\n",
       "</table>\n",
       "<p>350 rows × 5 columns</p>\n",
       "</div>"
      ],
      "text/plain": [
       "     Gender       Age  Annual Salary  Credit Card Debt  Net Worth\n",
       "5         1  1.374617       0.544280          1.345082  -0.024128\n",
       "116       1 -0.352471       0.600479         -0.971706  -0.602569\n",
       "45        0  1.180577       0.734628          0.199726   2.370075\n",
       "16        0 -0.138225       0.108236          0.581179  -0.351264\n",
       "462       0 -0.839532       0.392864          0.230410   0.698815\n",
       "..      ...       ...            ...               ...        ...\n",
       "106       0 -0.507109      -0.905691          0.843400   0.099215\n",
       "270       0 -1.311047      -2.374640         -0.251323  -1.247131\n",
       "348       0 -0.067640       0.133297         -1.629033   0.986245\n",
       "435       1  1.518530      -1.710061         -0.353579  -0.064458\n",
       "102       1 -1.922410       0.526749         -0.596519  -0.159351\n",
       "\n",
       "[350 rows x 5 columns]"
      ]
     },
     "execution_count": 226,
     "metadata": {},
     "output_type": "execute_result"
    }
   ],
   "source": [
    "X_train"
   ]
  },
  {
   "cell_type": "code",
   "execution_count": 227,
   "metadata": {},
   "outputs": [
    {
     "name": "stderr",
     "output_type": "stream",
     "text": [
      "C:\\Users\\SK SUJAN ISLAM\\anaconda3\\lib\\site-packages\\pandas\\core\\indexing.py:1736: SettingWithCopyWarning: \n",
      "A value is trying to be set on a copy of a slice from a DataFrame.\n",
      "Try using .loc[row_indexer,col_indexer] = value instead\n",
      "\n",
      "See the caveats in the documentation: https://pandas.pydata.org/pandas-docs/stable/user_guide/indexing.html#returning-a-view-versus-a-copy\n",
      "  isetter(loc, value[:, i].tolist())\n"
     ]
    }
   ],
   "source": [
    "X_test.iloc[:,1:]=sc.transform(X_test.iloc[:,1:])"
   ]
  },
  {
   "cell_type": "code",
   "execution_count": 228,
   "metadata": {},
   "outputs": [
    {
     "data": {
      "text/html": [
       "<div>\n",
       "<style scoped>\n",
       "    .dataframe tbody tr th:only-of-type {\n",
       "        vertical-align: middle;\n",
       "    }\n",
       "\n",
       "    .dataframe tbody tr th {\n",
       "        vertical-align: top;\n",
       "    }\n",
       "\n",
       "    .dataframe thead th {\n",
       "        text-align: right;\n",
       "    }\n",
       "</style>\n",
       "<table border=\"1\" class=\"dataframe\">\n",
       "  <thead>\n",
       "    <tr style=\"text-align: right;\">\n",
       "      <th></th>\n",
       "      <th>Gender</th>\n",
       "      <th>Age</th>\n",
       "      <th>Annual Salary</th>\n",
       "      <th>Credit Card Debt</th>\n",
       "      <th>Net Worth</th>\n",
       "    </tr>\n",
       "  </thead>\n",
       "  <tbody>\n",
       "    <tr>\n",
       "      <th>361</th>\n",
       "      <td>0</td>\n",
       "      <td>-1.216921</td>\n",
       "      <td>1.036934</td>\n",
       "      <td>0.233537</td>\n",
       "      <td>0.667291</td>\n",
       "    </tr>\n",
       "    <tr>\n",
       "      <th>73</th>\n",
       "      <td>1</td>\n",
       "      <td>0.243348</td>\n",
       "      <td>-0.234666</td>\n",
       "      <td>-1.372752</td>\n",
       "      <td>0.231150</td>\n",
       "    </tr>\n",
       "    <tr>\n",
       "      <th>374</th>\n",
       "      <td>1</td>\n",
       "      <td>1.413391</td>\n",
       "      <td>0.482079</td>\n",
       "      <td>1.251853</td>\n",
       "      <td>1.262898</td>\n",
       "    </tr>\n",
       "    <tr>\n",
       "      <th>155</th>\n",
       "      <td>0</td>\n",
       "      <td>0.547582</td>\n",
       "      <td>-0.547361</td>\n",
       "      <td>-1.242482</td>\n",
       "      <td>-2.322979</td>\n",
       "    </tr>\n",
       "    <tr>\n",
       "      <th>104</th>\n",
       "      <td>0</td>\n",
       "      <td>0.329324</td>\n",
       "      <td>0.167749</td>\n",
       "      <td>0.330513</td>\n",
       "      <td>2.581262</td>\n",
       "    </tr>\n",
       "    <tr>\n",
       "      <th>...</th>\n",
       "      <td>...</td>\n",
       "      <td>...</td>\n",
       "      <td>...</td>\n",
       "      <td>...</td>\n",
       "      <td>...</td>\n",
       "    </tr>\n",
       "    <tr>\n",
       "      <th>266</th>\n",
       "      <td>1</td>\n",
       "      <td>-0.686651</td>\n",
       "      <td>-0.668871</td>\n",
       "      <td>-0.115965</td>\n",
       "      <td>0.464474</td>\n",
       "    </tr>\n",
       "    <tr>\n",
       "      <th>23</th>\n",
       "      <td>1</td>\n",
       "      <td>0.147258</td>\n",
       "      <td>-0.826455</td>\n",
       "      <td>0.713614</td>\n",
       "      <td>1.438977</td>\n",
       "    </tr>\n",
       "    <tr>\n",
       "      <th>222</th>\n",
       "      <td>0</td>\n",
       "      <td>0.200930</td>\n",
       "      <td>-0.074548</td>\n",
       "      <td>0.743617</td>\n",
       "      <td>0.432044</td>\n",
       "    </tr>\n",
       "    <tr>\n",
       "      <th>261</th>\n",
       "      <td>0</td>\n",
       "      <td>-1.017102</td>\n",
       "      <td>-1.049574</td>\n",
       "      <td>-1.031981</td>\n",
       "      <td>0.264016</td>\n",
       "    </tr>\n",
       "    <tr>\n",
       "      <th>426</th>\n",
       "      <td>1</td>\n",
       "      <td>-0.490187</td>\n",
       "      <td>-0.536255</td>\n",
       "      <td>-0.410965</td>\n",
       "      <td>-0.216909</td>\n",
       "    </tr>\n",
       "  </tbody>\n",
       "</table>\n",
       "<p>150 rows × 5 columns</p>\n",
       "</div>"
      ],
      "text/plain": [
       "     Gender       Age  Annual Salary  Credit Card Debt  Net Worth\n",
       "361       0 -1.216921       1.036934          0.233537   0.667291\n",
       "73        1  0.243348      -0.234666         -1.372752   0.231150\n",
       "374       1  1.413391       0.482079          1.251853   1.262898\n",
       "155       0  0.547582      -0.547361         -1.242482  -2.322979\n",
       "104       0  0.329324       0.167749          0.330513   2.581262\n",
       "..      ...       ...            ...               ...        ...\n",
       "266       1 -0.686651      -0.668871         -0.115965   0.464474\n",
       "23        1  0.147258      -0.826455          0.713614   1.438977\n",
       "222       0  0.200930      -0.074548          0.743617   0.432044\n",
       "261       0 -1.017102      -1.049574         -1.031981   0.264016\n",
       "426       1 -0.490187      -0.536255         -0.410965  -0.216909\n",
       "\n",
       "[150 rows x 5 columns]"
      ]
     },
     "execution_count": 228,
     "metadata": {},
     "output_type": "execute_result"
    }
   ],
   "source": [
    "X_test"
   ]
  },
  {
   "cell_type": "code",
   "execution_count": 229,
   "metadata": {},
   "outputs": [
    {
     "data": {
      "text/plain": [
       "array([[56611.99784],\n",
       "       [42408.02625],\n",
       "       [68925.09447],\n",
       "       [41814.72067],\n",
       "       [44430.63323],\n",
       "       [39270.57909],\n",
       "       [67422.36313],\n",
       "       [56563.98675],\n",
       "       [45112.94547],\n",
       "       [37348.13737],\n",
       "       [49142.51174],\n",
       "       [39606.24598],\n",
       "       [48516.84335],\n",
       "       [43994.35972],\n",
       "       [34922.42846],\n",
       "       [48052.65091],\n",
       "       [37161.55393],\n",
       "       [47434.98265],\n",
       "       [ 9000.     ],\n",
       "       [27586.71854],\n",
       "       [10092.22509],\n",
       "       [38172.83602],\n",
       "       [59538.40327],\n",
       "       [42592.88647],\n",
       "       [30240.60975],\n",
       "       [49050.85378],\n",
       "       [56764.44728],\n",
       "       [39331.20127],\n",
       "       [53655.53859],\n",
       "       [29754.66271],\n",
       "       [53993.44322],\n",
       "       [50455.11935],\n",
       "       [63868.94051],\n",
       "       [38705.65839],\n",
       "       [46012.10616],\n",
       "       [29425.83001],\n",
       "       [48955.85816],\n",
       "       [43680.91327],\n",
       "       [55125.93237],\n",
       "       [36112.79346],\n",
       "       [47760.66427],\n",
       "       [55700.83389],\n",
       "       [70598.96768],\n",
       "       [52709.08196],\n",
       "       [54973.02495],\n",
       "       [31215.6421 ],\n",
       "       [45977.12502],\n",
       "       [25971.95673],\n",
       "       [42356.6895 ],\n",
       "       [46710.52519],\n",
       "       [27586.20078],\n",
       "       [42384.05128],\n",
       "       [34139.6373 ],\n",
       "       [40879.19107],\n",
       "       [55592.70383],\n",
       "       [46188.83514],\n",
       "       [51355.7106 ],\n",
       "       [52991.52667],\n",
       "       [36517.70996],\n",
       "       [54606.18769],\n",
       "       [56973.18105],\n",
       "       [34521.17618],\n",
       "       [51866.48719],\n",
       "       [63038.20422],\n",
       "       [29092.1311 ],\n",
       "       [46935.72774],\n",
       "       [22599.45863],\n",
       "       [27625.44144],\n",
       "       [42793.9932 ],\n",
       "       [42990.29255],\n",
       "       [60567.18837],\n",
       "       [52116.90791],\n",
       "       [38978.67458],\n",
       "       [49721.31082],\n",
       "       [32700.27871],\n",
       "       [49065.1634 ],\n",
       "       [52313.98392],\n",
       "       [39135.03023],\n",
       "       [41575.34739],\n",
       "       [32737.80177],\n",
       "       [58840.53964],\n",
       "       [12895.71468],\n",
       "       [50539.90169],\n",
       "       [28925.70549],\n",
       "       [47984.12043],\n",
       "       [32291.18978],\n",
       "       [39422.79389],\n",
       "       [39433.40631],\n",
       "       [27810.21814],\n",
       "       [64545.16339],\n",
       "       [41679.7929 ],\n",
       "       [54387.27727],\n",
       "       [27303.17104],\n",
       "       [59045.51309],\n",
       "       [47715.96049],\n",
       "       [31540.77868],\n",
       "       [41456.68097],\n",
       "       [35928.52404],\n",
       "       [42866.21274],\n",
       "       [35438.80549],\n",
       "       [28164.86039],\n",
       "       [38148.00163],\n",
       "       [35139.24793],\n",
       "       [49220.0218 ],\n",
       "       [42747.53925],\n",
       "       [30736.5798 ],\n",
       "       [38504.39444],\n",
       "       [43641.65727],\n",
       "       [47935.9394 ],\n",
       "       [42909.27129],\n",
       "       [46412.47781],\n",
       "       [51402.61506],\n",
       "       [52889.56257],\n",
       "       [61593.52058],\n",
       "       [36645.5609 ],\n",
       "       [44434.98419],\n",
       "       [42705.11311],\n",
       "       [39503.38829],\n",
       "       [19525.29827],\n",
       "       [59416.18101],\n",
       "       [58045.56257],\n",
       "       [40660.38317],\n",
       "       [60763.24731],\n",
       "       [40022.17406],\n",
       "       [29670.83337],\n",
       "       [44424.07681],\n",
       "       [35848.82935],\n",
       "       [30757.65726],\n",
       "       [57461.51158],\n",
       "       [47143.44008],\n",
       "       [44463.30502],\n",
       "       [56457.74038],\n",
       "       [38174.87433],\n",
       "       [41673.44617],\n",
       "       [44001.20706],\n",
       "       [62028.71192],\n",
       "       [70878.29664],\n",
       "       [28645.39425],\n",
       "       [36367.18452],\n",
       "       [53848.7555 ],\n",
       "       [58667.06865],\n",
       "       [46937.17422],\n",
       "       [65592.22012],\n",
       "       [23517.91983],\n",
       "       [57306.32866],\n",
       "       [30719.8156 ],\n",
       "       [49442.12107],\n",
       "       [35475.00344],\n",
       "       [32553.53423],\n",
       "       [21471.11367],\n",
       "       [40095.0498 ],\n",
       "       [58235.41454],\n",
       "       [35716.31133],\n",
       "       [42484.02283],\n",
       "       [47693.23482],\n",
       "       [31696.99679],\n",
       "       [41327.16554],\n",
       "       [46054.60253],\n",
       "       [67120.89878],\n",
       "       [42213.69644],\n",
       "       [41427.59797],\n",
       "       [45509.69732],\n",
       "       [38138.57511],\n",
       "       [37871.7082 ],\n",
       "       [37252.55194],\n",
       "       [50441.62427],\n",
       "       [46402.53583],\n",
       "       [34642.6024 ],\n",
       "       [60960.83428],\n",
       "       [53496.48183],\n",
       "       [40077.57289],\n",
       "       [45271.46081],\n",
       "       [68678.4352 ],\n",
       "       [29556.7932 ],\n",
       "       [52954.93121],\n",
       "       [29417.64694],\n",
       "       [19553.2739 ],\n",
       "       [56499.10202],\n",
       "       [39522.13129],\n",
       "       [36125.48846],\n",
       "       [37714.31659],\n",
       "       [28700.0334 ],\n",
       "       [51612.14311],\n",
       "       [58350.31809],\n",
       "       [41026.02421],\n",
       "       [44418.60955],\n",
       "       [42919.5196 ],\n",
       "       [59096.26978],\n",
       "       [37303.56701],\n",
       "       [40004.87142],\n",
       "       [63738.39065],\n",
       "       [46325.50959],\n",
       "       [56510.13294],\n",
       "       [50296.67496],\n",
       "       [29052.09521],\n",
       "       [41567.47033],\n",
       "       [45442.15353],\n",
       "       [48465.27211],\n",
       "       [45805.30588],\n",
       "       [32828.03477],\n",
       "       [43401.56612],\n",
       "       [37376.63439],\n",
       "       [55915.46248],\n",
       "       [48349.16457],\n",
       "       [49248.10595],\n",
       "       [57441.44414],\n",
       "       [46389.50237],\n",
       "       [45593.6849 ],\n",
       "       [44577.44829],\n",
       "       [27889.95197],\n",
       "       [52474.71839],\n",
       "       [39904.81613],\n",
       "       [47805.25605],\n",
       "       [47483.85316],\n",
       "       [37843.46619],\n",
       "       [66363.89316],\n",
       "       [37947.85125],\n",
       "       [43503.97349],\n",
       "       [36086.93161],\n",
       "       [66648.25077],\n",
       "       [49091.97185],\n",
       "       [31408.62631],\n",
       "       [52654.40455],\n",
       "       [51405.55229],\n",
       "       [47610.11718],\n",
       "       [43855.06077],\n",
       "       [47719.47741],\n",
       "       [33428.40183],\n",
       "       [49730.53339],\n",
       "       [48622.66097],\n",
       "       [52665.36511],\n",
       "       [48383.69071],\n",
       "       [48013.6141 ],\n",
       "       [36543.93642],\n",
       "       [51046.42226],\n",
       "       [42297.5062 ],\n",
       "       [63248.76188],\n",
       "       [49510.03356],\n",
       "       [26499.31418],\n",
       "       [45805.67186],\n",
       "       [37259.84386],\n",
       "       [47979.48549],\n",
       "       [30419.8    ],\n",
       "       [44846.68557],\n",
       "       [41034.28343],\n",
       "       [55420.56668],\n",
       "       [32061.6467 ],\n",
       "       [30826.10903],\n",
       "       [47009.57741],\n",
       "       [54850.38742],\n",
       "       [43405.89086],\n",
       "       [28440.81268],\n",
       "       [45824.5656 ],\n",
       "       [24184.07443],\n",
       "       [41984.62412],\n",
       "       [41489.64123],\n",
       "       [67092.23276],\n",
       "       [24221.99937],\n",
       "       [66888.93694],\n",
       "       [43264.04965],\n",
       "       [46453.34819],\n",
       "       [27815.73813],\n",
       "       [46643.26581],\n",
       "       [43242.58224],\n",
       "       [56579.90338],\n",
       "       [37084.77621],\n",
       "       [49336.11628],\n",
       "       [45738.3343 ],\n",
       "       [46381.13111],\n",
       "       [26599.90843],\n",
       "       [45115.52566],\n",
       "       [24134.59205],\n",
       "       [45015.67953],\n",
       "       [48734.35708],\n",
       "       [40589.8625 ],\n",
       "       [38399.46139],\n",
       "       [48518.90163],\n",
       "       [39810.34817],\n",
       "       [48300.02057],\n",
       "       [42905.53815],\n",
       "       [37183.10293],\n",
       "       [51221.04249],\n",
       "       [34678.83226],\n",
       "       [44500.81936],\n",
       "       [48266.75516],\n",
       "       [46398.35204],\n",
       "       [54013.47595],\n",
       "       [46846.7305 ],\n",
       "       [49258.87571],\n",
       "       [80000.     ],\n",
       "       [50937.93844],\n",
       "       [42704.3221 ],\n",
       "       [53502.97742],\n",
       "       [20653.21409],\n",
       "       [31146.71078],\n",
       "       [60117.67886],\n",
       "       [33131.52734],\n",
       "       [56071.61377],\n",
       "       [53049.44567],\n",
       "       [58641.71051],\n",
       "       [42773.75905],\n",
       "       [31978.9799 ],\n",
       "       [35726.95299],\n",
       "       [27187.23914],\n",
       "       [48785.15839],\n",
       "       [41104.07108],\n",
       "       [52150.41786],\n",
       "       [46380.44732],\n",
       "       [31491.41457],\n",
       "       [42978.34626],\n",
       "       [38182.30465],\n",
       "       [38147.81018],\n",
       "       [37883.24231],\n",
       "       [35659.12237],\n",
       "       [50702.18103],\n",
       "       [49079.61942],\n",
       "       [43402.31525],\n",
       "       [35781.16156],\n",
       "       [35457.1486 ],\n",
       "       [57125.41541],\n",
       "       [48025.02542],\n",
       "       [38901.60925],\n",
       "       [42774.35579],\n",
       "       [51922.07691],\n",
       "       [44736.41097],\n",
       "       [33766.6413 ],\n",
       "       [50188.86612],\n",
       "       [33261.00057],\n",
       "       [42497.72862],\n",
       "       [38930.55234],\n",
       "       [51551.67997],\n",
       "       [47604.34591],\n",
       "       [39083.94268],\n",
       "       [42187.6828 ],\n",
       "       [38545.80328],\n",
       "       [36019.9556 ],\n",
       "       [40102.11417],\n",
       "       [31083.70271],\n",
       "       [37744.54285],\n",
       "       [28463.64326],\n",
       "       [41913.53713],\n",
       "       [45107.22566],\n",
       "       [51130.95379],\n",
       "       [60865.76396],\n",
       "       [49373.37555],\n",
       "       [34803.82395],\n",
       "       [12536.93842],\n",
       "       [49348.88394],\n",
       "       [42139.64528],\n",
       "       [33640.73697]])"
      ]
     },
     "execution_count": 229,
     "metadata": {},
     "output_type": "execute_result"
    }
   ],
   "source": [
    "y_train"
   ]
  },
  {
   "cell_type": "code",
   "execution_count": 230,
   "metadata": {},
   "outputs": [],
   "source": [
    "sc_y=StandardScaler()"
   ]
  },
  {
   "cell_type": "code",
   "execution_count": 231,
   "metadata": {},
   "outputs": [],
   "source": [
    "y_train=sc_y.fit_transform(y_train)"
   ]
  },
  {
   "cell_type": "code",
   "execution_count": 232,
   "metadata": {},
   "outputs": [
    {
     "data": {
      "text/plain": [
       "(350, 1)"
      ]
     },
     "execution_count": 232,
     "metadata": {},
     "output_type": "execute_result"
    }
   ],
   "source": [
    "y_train.shape"
   ]
  },
  {
   "cell_type": "code",
   "execution_count": 233,
   "metadata": {},
   "outputs": [
    {
     "data": {
      "text/plain": [
       "(150, 1)"
      ]
     },
     "execution_count": 233,
     "metadata": {},
     "output_type": "execute_result"
    }
   ],
   "source": [
    "y_test.shape"
   ]
  },
  {
   "cell_type": "code",
   "execution_count": 234,
   "metadata": {},
   "outputs": [],
   "source": [
    "y_test=sc_y.transform(y_test)"
   ]
  },
  {
   "cell_type": "code",
   "execution_count": 235,
   "metadata": {},
   "outputs": [
    {
     "data": {
      "text/plain": [
       "array([[ 0.20722029],\n",
       "       [ 0.11345041],\n",
       "       [ 1.76380739],\n",
       "       [-1.09738932],\n",
       "       [ 1.52399613],\n",
       "       [ 1.76932119],\n",
       "       [ 0.79287621],\n",
       "       [ 1.00145734],\n",
       "       [ 0.81395181],\n",
       "       [ 0.37087509],\n",
       "       [-0.51564792],\n",
       "       [ 1.13644545],\n",
       "       [ 0.0496172 ],\n",
       "       [-0.44123271],\n",
       "       [-0.35209285],\n",
       "       [ 1.03988144],\n",
       "       [ 0.46535054],\n",
       "       [-2.40264652],\n",
       "       [ 1.53001616],\n",
       "       [ 0.56518764],\n",
       "       [-0.22598384],\n",
       "       [ 0.8210219 ],\n",
       "       [ 0.72440552],\n",
       "       [-0.52908318],\n",
       "       [-0.22555265],\n",
       "       [-0.51074324],\n",
       "       [ 1.86156398],\n",
       "       [ 0.38136966],\n",
       "       [-1.93585016],\n",
       "       [ 0.77116205],\n",
       "       [ 1.03918398],\n",
       "       [ 0.18660965],\n",
       "       [-0.24475808],\n",
       "       [ 1.24646557],\n",
       "       [-0.08190677],\n",
       "       [-0.3600452 ],\n",
       "       [ 1.64034583],\n",
       "       [-1.18862343],\n",
       "       [-0.14751643],\n",
       "       [-0.34126931],\n",
       "       [ 1.23484429],\n",
       "       [ 1.54314495],\n",
       "       [ 0.33185458],\n",
       "       [-0.65771578],\n",
       "       [ 0.88552097],\n",
       "       [ 0.05628826],\n",
       "       [-0.77830348],\n",
       "       [-0.14023391],\n",
       "       [ 0.7542826 ],\n",
       "       [ 0.31327444],\n",
       "       [-0.17550672],\n",
       "       [-1.0267602 ],\n",
       "       [-0.51068806],\n",
       "       [-0.18780305],\n",
       "       [ 0.12714422],\n",
       "       [ 0.39198102],\n",
       "       [ 1.50210707],\n",
       "       [ 0.07453769],\n",
       "       [ 0.06455808],\n",
       "       [-0.48699092],\n",
       "       [ 1.8653169 ],\n",
       "       [-0.0202496 ],\n",
       "       [-1.94056257],\n",
       "       [ 1.05846187],\n",
       "       [-0.23800109],\n",
       "       [ 1.00766388],\n",
       "       [ 1.48030527],\n",
       "       [-0.87956315],\n",
       "       [-0.07536261],\n",
       "       [ 0.38011933],\n",
       "       [ 1.51747779],\n",
       "       [-1.38161107],\n",
       "       [ 1.43449224],\n",
       "       [ 1.07361908],\n",
       "       [ 1.4596603 ],\n",
       "       [-1.9899371 ],\n",
       "       [-0.22895086],\n",
       "       [ 0.51035716],\n",
       "       [-0.99390615],\n",
       "       [ 1.61035446],\n",
       "       [-0.13283132],\n",
       "       [-1.22948425],\n",
       "       [-0.73232157],\n",
       "       [-0.00875452],\n",
       "       [ 0.62702926],\n",
       "       [-0.44552396],\n",
       "       [-0.46311702],\n",
       "       [-1.20450268],\n",
       "       [-0.35964816],\n",
       "       [-0.72425421],\n",
       "       [-1.30768937],\n",
       "       [-0.5912262 ],\n",
       "       [-1.17735209],\n",
       "       [-0.2456347 ],\n",
       "       [-1.06339945],\n",
       "       [ 0.48163814],\n",
       "       [ 0.12338029],\n",
       "       [ 0.65369728],\n",
       "       [ 0.00716058],\n",
       "       [ 0.84227739],\n",
       "       [ 0.21202479],\n",
       "       [-1.30964078],\n",
       "       [ 1.00806058],\n",
       "       [ 1.44741549],\n",
       "       [-1.70037842],\n",
       "       [ 0.32610041],\n",
       "       [-0.13723421],\n",
       "       [-0.16565749],\n",
       "       [ 0.14160782],\n",
       "       [-0.37121336],\n",
       "       [-0.40383289],\n",
       "       [ 0.52643742],\n",
       "       [-0.35793761],\n",
       "       [ 0.05197163],\n",
       "       [ 0.80135014],\n",
       "       [ 0.84269807],\n",
       "       [ 2.0457684 ],\n",
       "       [ 0.51100561],\n",
       "       [-0.21689474],\n",
       "       [-1.44594395],\n",
       "       [ 1.58418492],\n",
       "       [-0.23394593],\n",
       "       [ 0.83922109],\n",
       "       [-1.14653861],\n",
       "       [ 0.05610494],\n",
       "       [-1.35703387],\n",
       "       [-0.40117782],\n",
       "       [ 0.72014103],\n",
       "       [ 1.88394613],\n",
       "       [-1.1258868 ],\n",
       "       [ 0.0760367 ],\n",
       "       [ 0.74377479],\n",
       "       [ 2.3672853 ],\n",
       "       [-0.39113361],\n",
       "       [ 1.74407987],\n",
       "       [-0.2193415 ],\n",
       "       [-0.54402416],\n",
       "       [ 0.11523668],\n",
       "       [ 0.00747554],\n",
       "       [-0.47121751],\n",
       "       [ 0.39233098],\n",
       "       [-1.03866624],\n",
       "       [ 0.85085049],\n",
       "       [ 0.93915553],\n",
       "       [-0.61598158],\n",
       "       [-0.61754716],\n",
       "       [ 0.25783509],\n",
       "       [ 0.28135024],\n",
       "       [-1.15116848],\n",
       "       [-0.73590515]])"
      ]
     },
     "execution_count": 235,
     "metadata": {},
     "output_type": "execute_result"
    }
   ],
   "source": [
    "y_test"
   ]
  },
  {
   "cell_type": "code",
   "execution_count": 236,
   "metadata": {},
   "outputs": [],
   "source": [
    "from tensorflow.keras.models import Sequential\n",
    "from tensorflow.keras.layers import Dense\n"
   ]
  },
  {
   "cell_type": "code",
   "execution_count": 237,
   "metadata": {},
   "outputs": [],
   "source": [
    "model=Sequential()\n"
   ]
  },
  {
   "cell_type": "code",
   "execution_count": 238,
   "metadata": {},
   "outputs": [
    {
     "data": {
      "text/plain": [
       "(350, 5)"
      ]
     },
     "execution_count": 238,
     "metadata": {},
     "output_type": "execute_result"
    }
   ],
   "source": [
    "X_train.shape"
   ]
  },
  {
   "cell_type": "code",
   "execution_count": 239,
   "metadata": {},
   "outputs": [],
   "source": [
    "model.add(Dense(50,activation=\"relu\",input_dim=5))\n",
    "model.add(Dense(50,activation=\"relu\"))\n",
    "model.add(Dense(1,activation=\"linear\"))"
   ]
  },
  {
   "cell_type": "code",
   "execution_count": 240,
   "metadata": {},
   "outputs": [],
   "source": [
    "model.compile(optimizer='adam', loss='mean_squared_error')"
   ]
  },
  {
   "cell_type": "code",
   "execution_count": 241,
   "metadata": {},
   "outputs": [
    {
     "name": "stdout",
     "output_type": "stream",
     "text": [
      "Epoch 1/50\n",
      "10/10 [==============================] - 0s 10ms/step - loss: 0.9765 - val_loss: 0.6500\n",
      "Epoch 2/50\n",
      "10/10 [==============================] - 0s 3ms/step - loss: 0.6616 - val_loss: 0.4269\n",
      "Epoch 3/50\n",
      "10/10 [==============================] - 0s 3ms/step - loss: 0.3976 - val_loss: 0.2527\n",
      "Epoch 4/50\n",
      "10/10 [==============================] - 0s 3ms/step - loss: 0.2093 - val_loss: 0.1159\n",
      "Epoch 5/50\n",
      "10/10 [==============================] - 0s 2ms/step - loss: 0.0802 - val_loss: 0.0489\n",
      "Epoch 6/50\n",
      "10/10 [==============================] - 0s 3ms/step - loss: 0.0393 - val_loss: 0.0336\n",
      "Epoch 7/50\n",
      "10/10 [==============================] - 0s 3ms/step - loss: 0.0302 - val_loss: 0.0259\n",
      "Epoch 8/50\n",
      "10/10 [==============================] - 0s 3ms/step - loss: 0.0218 - val_loss: 0.0165\n",
      "Epoch 9/50\n",
      "10/10 [==============================] - 0s 3ms/step - loss: 0.0150 - val_loss: 0.0125\n",
      "Epoch 10/50\n",
      "10/10 [==============================] - 0s 3ms/step - loss: 0.0114 - val_loss: 0.0099\n",
      "Epoch 11/50\n",
      "10/10 [==============================] - 0s 3ms/step - loss: 0.0094 - val_loss: 0.0085\n",
      "Epoch 12/50\n",
      "10/10 [==============================] - 0s 3ms/step - loss: 0.0081 - val_loss: 0.0077\n",
      "Epoch 13/50\n",
      "10/10 [==============================] - 0s 3ms/step - loss: 0.0070 - val_loss: 0.0078\n",
      "Epoch 14/50\n",
      "10/10 [==============================] - 0s 3ms/step - loss: 0.0063 - val_loss: 0.0069\n",
      "Epoch 15/50\n",
      "10/10 [==============================] - 0s 3ms/step - loss: 0.0057 - val_loss: 0.0066\n",
      "Epoch 16/50\n",
      "10/10 [==============================] - 0s 4ms/step - loss: 0.0052 - val_loss: 0.0063\n",
      "Epoch 17/50\n",
      "10/10 [==============================] - 0s 3ms/step - loss: 0.0047 - val_loss: 0.0060\n",
      "Epoch 18/50\n",
      "10/10 [==============================] - 0s 3ms/step - loss: 0.0043 - val_loss: 0.0057\n",
      "Epoch 19/50\n",
      "10/10 [==============================] - 0s 3ms/step - loss: 0.0040 - val_loss: 0.0056\n",
      "Epoch 20/50\n",
      "10/10 [==============================] - 0s 3ms/step - loss: 0.0037 - val_loss: 0.0052\n",
      "Epoch 21/50\n",
      "10/10 [==============================] - 0s 3ms/step - loss: 0.0034 - val_loss: 0.0051\n",
      "Epoch 22/50\n",
      "10/10 [==============================] - 0s 3ms/step - loss: 0.0032 - val_loss: 0.0049\n",
      "Epoch 23/50\n",
      "10/10 [==============================] - 0s 3ms/step - loss: 0.0029 - val_loss: 0.0048\n",
      "Epoch 24/50\n",
      "10/10 [==============================] - 0s 3ms/step - loss: 0.0027 - val_loss: 0.0046\n",
      "Epoch 25/50\n",
      "10/10 [==============================] - 0s 3ms/step - loss: 0.0025 - val_loss: 0.0044\n",
      "Epoch 26/50\n",
      "10/10 [==============================] - 0s 3ms/step - loss: 0.0024 - val_loss: 0.0043\n",
      "Epoch 27/50\n",
      "10/10 [==============================] - 0s 3ms/step - loss: 0.0022 - val_loss: 0.0042\n",
      "Epoch 28/50\n",
      "10/10 [==============================] - 0s 3ms/step - loss: 0.0022 - val_loss: 0.0041\n",
      "Epoch 29/50\n",
      "10/10 [==============================] - 0s 3ms/step - loss: 0.0020 - val_loss: 0.0040\n",
      "Epoch 30/50\n",
      "10/10 [==============================] - 0s 3ms/step - loss: 0.0019 - val_loss: 0.0039\n",
      "Epoch 31/50\n",
      "10/10 [==============================] - 0s 3ms/step - loss: 0.0018 - val_loss: 0.0038\n",
      "Epoch 32/50\n",
      "10/10 [==============================] - 0s 3ms/step - loss: 0.0017 - val_loss: 0.0038\n",
      "Epoch 33/50\n",
      "10/10 [==============================] - 0s 3ms/step - loss: 0.0016 - val_loss: 0.0036\n",
      "Epoch 34/50\n",
      "10/10 [==============================] - 0s 3ms/step - loss: 0.0015 - val_loss: 0.0036\n",
      "Epoch 35/50\n",
      "10/10 [==============================] - 0s 3ms/step - loss: 0.0014 - val_loss: 0.0035\n",
      "Epoch 36/50\n",
      "10/10 [==============================] - 0s 3ms/step - loss: 0.0014 - val_loss: 0.0034\n",
      "Epoch 37/50\n",
      "10/10 [==============================] - 0s 3ms/step - loss: 0.0013 - val_loss: 0.0034\n",
      "Epoch 38/50\n",
      "10/10 [==============================] - 0s 3ms/step - loss: 0.0013 - val_loss: 0.0033\n",
      "Epoch 39/50\n",
      "10/10 [==============================] - 0s 3ms/step - loss: 0.0012 - val_loss: 0.0033\n",
      "Epoch 40/50\n",
      "10/10 [==============================] - 0s 3ms/step - loss: 0.0012 - val_loss: 0.0032\n",
      "Epoch 41/50\n",
      "10/10 [==============================] - 0s 3ms/step - loss: 0.0011 - val_loss: 0.0032\n",
      "Epoch 42/50\n",
      "10/10 [==============================] - 0s 3ms/step - loss: 0.0011 - val_loss: 0.0031\n",
      "Epoch 43/50\n",
      "10/10 [==============================] - 0s 3ms/step - loss: 0.0011 - val_loss: 0.0033\n",
      "Epoch 44/50\n",
      "10/10 [==============================] - 0s 3ms/step - loss: 0.0010 - val_loss: 0.0032\n",
      "Epoch 45/50\n",
      "10/10 [==============================] - 0s 3ms/step - loss: 0.0010 - val_loss: 0.0031\n",
      "Epoch 46/50\n",
      "10/10 [==============================] - 0s 3ms/step - loss: 8.9492e-04 - val_loss: 0.0030\n",
      "Epoch 47/50\n",
      "10/10 [==============================] - 0s 3ms/step - loss: 8.6070e-04 - val_loss: 0.0030\n",
      "Epoch 48/50\n",
      "10/10 [==============================] - 0s 3ms/step - loss: 8.3999e-04 - val_loss: 0.0030\n",
      "Epoch 49/50\n",
      "10/10 [==============================] - 0s 3ms/step - loss: 7.8963e-04 - val_loss: 0.0028\n",
      "Epoch 50/50\n",
      "10/10 [==============================] - 0s 3ms/step - loss: 7.6529e-04 - val_loss: 0.0029\n"
     ]
    }
   ],
   "source": [
    "model_hist=model.fit(X_train,y_train,validation_split=0.3,verbose=1,batch_size=25,epochs=50)"
   ]
  },
  {
   "cell_type": "code",
   "execution_count": 242,
   "metadata": {},
   "outputs": [
    {
     "data": {
      "text/plain": [
       "dict_keys(['loss', 'val_loss'])"
      ]
     },
     "execution_count": 242,
     "metadata": {},
     "output_type": "execute_result"
    }
   ],
   "source": [
    "model_hist.history.keys()"
   ]
  },
  {
   "cell_type": "code",
   "execution_count": 243,
   "metadata": {},
   "outputs": [],
   "source": [
    "import matplotlib.pyplot as plt"
   ]
  },
  {
   "cell_type": "code",
   "execution_count": 244,
   "metadata": {},
   "outputs": [
    {
     "data": {
      "image/png": "[encoded data removed]",
      "text/plain": [
       "<Figure size 432x288 with 1 Axes>"
      ]
     },
     "metadata": {
      "needs_background": "light"
     },
     "output_type": "display_data"
    }
   ],
   "source": [
    "plt.plot(model_hist.history['loss'])\n",
    "plt.plot(model_hist.history['val_loss'])\n",
    "\n",
    "plt.title('Model Loss Progression During Training/Validation')\n",
    "plt.ylabel('Training and Validation Losses')\n",
    "plt.xlabel('Epoch Number')\n",
    "plt.legend(['Training Loss', 'Validation Loss'])\n",
    "plt.show()"
   ]
  },
  {
   "cell_type": "code",
   "execution_count": 245,
   "metadata": {},
   "outputs": [],
   "source": [
    "pred=model.predict(X_test)"
   ]
  },
  {
   "cell_type": "code",
   "execution_count": 246,
   "metadata": {},
   "outputs": [],
   "source": [
    "pediction=sc_y.inverse_transform(pred)"
   ]
  },
  {
   "cell_type": "code",
   "execution_count": 247,
   "metadata": {},
   "outputs": [],
   "source": [
    "original_y_test=sc_y.inverse_transform(y_test)"
   ]
  },
  {
   "cell_type": "code",
   "execution_count": 248,
   "metadata": {},
   "outputs": [],
   "source": [
    "import numpy as np"
   ]
  },
  {
   "cell_type": "code",
   "execution_count": 249,
   "metadata": {},
   "outputs": [],
   "source": [
    "p=np.array(pediction)"
   ]
  },
  {
   "cell_type": "code",
   "execution_count": 250,
   "metadata": {},
   "outputs": [],
   "source": [
    "test=np.array(original_y_test)"
   ]
  },
  {
   "cell_type": "code",
   "execution_count": 251,
   "metadata": {},
   "outputs": [
    {
     "data": {
      "text/plain": [
       "array([[46302.844],\n",
       "       [45494.938],\n",
       "       [63453.645],\n",
       "       [32132.203],\n",
       "       [61147.965],\n",
       "       [62257.54 ],\n",
       "       [52395.664],\n",
       "       [54943.99 ],\n",
       "       [52467.566],\n",
       "       [47822.543],\n",
       "       [38305.727],\n",
       "       [57042.86 ],\n",
       "       [44101.973],\n",
       "       [39171.516],\n",
       "       [40723.695],\n",
       "       [55112.31 ],\n",
       "       [49056.406],\n",
       "       [17858.975],\n",
       "       [60957.645],\n",
       "       [49788.797],\n",
       "       [41224.34 ],\n",
       "       [52545.195],\n",
       "       [51941.867],\n",
       "       [38207.113],\n",
       "       [41556.598],\n",
       "       [38409.195],\n",
       "       [63277.06 ],\n",
       "       [48103.55 ],\n",
       "       [23138.518],\n",
       "       [52844.28 ],\n",
       "       [54999.766],\n",
       "       [46072.43 ],\n",
       "       [41763.17 ],\n",
       "       [57054.297],\n",
       "       [42801.05 ],\n",
       "       [40348.7  ],\n",
       "       [61853.375],\n",
       "       [30095.705],\n",
       "       [41623.117],\n",
       "       [39762.6  ],\n",
       "       [56980.598],\n",
       "       [61092.7  ],\n",
       "       [47417.062],\n",
       "       [36862.953],\n",
       "       [53910.88 ],\n",
       "       [44402.613],\n",
       "       [34571.25 ],\n",
       "       [41537.45 ],\n",
       "       [51646.97 ],\n",
       "       [47542.96 ],\n",
       "       [41654.934],\n",
       "       [31489.777],\n",
       "       [37829.75 ],\n",
       "       [41383.23 ],\n",
       "       [45378.65 ],\n",
       "       [48822.96 ],\n",
       "       [59406.977],\n",
       "       [44414.28 ],\n",
       "       [44590.633],\n",
       "       [37762.363],\n",
       "       [64046.62 ],\n",
       "       [43561.79 ],\n",
       "       [22760.559],\n",
       "       [55646.99 ],\n",
       "       [41746.457],\n",
       "       [54753.28 ],\n",
       "       [59137.992],\n",
       "       [33307.65 ],\n",
       "       [42925.934],\n",
       "       [47680.508],\n",
       "       [60586.09 ],\n",
       "       [28730.754],\n",
       "       [59357.82 ],\n",
       "       [55691.395],\n",
       "       [59994.895],\n",
       "       [22207.855],\n",
       "       [41018.055],\n",
       "       [49655.113],\n",
       "       [32298.963],\n",
       "       [60070.76 ],\n",
       "       [42663.477],\n",
       "       [30510.031],\n",
       "       [35499.78 ],\n",
       "       [44078.805],\n",
       "       [50852.41 ],\n",
       "       [37676.508],\n",
       "       [37049.164],\n",
       "       [30407.018],\n",
       "       [39696.848],\n",
       "       [35965.266],\n",
       "       [29557.984],\n",
       "       [36774.914],\n",
       "       [30398.092],\n",
       "       [40686.137],\n",
       "       [31575.398],\n",
       "       [49798.492],\n",
       "       [45456.684],\n",
       "       [50509.91 ],\n",
       "       [43522.996],\n",
       "       [54211.652],\n",
       "       [46030.082],\n",
       "       [29697.8  ],\n",
       "       [53996.89 ],\n",
       "       [58992.72 ],\n",
       "       [25496.242],\n",
       "       [48545.08 ],\n",
       "       [42063.34 ],\n",
       "       [41608.375],\n",
       "       [44538.28 ],\n",
       "       [39340.49 ],\n",
       "       [39786.062],\n",
       "       [49441.887],\n",
       "       [39380.7  ],\n",
       "       [43456.445],\n",
       "       [52553.547],\n",
       "       [53073.074],\n",
       "       [66265.42 ],\n",
       "       [48557.31 ],\n",
       "       [40466.152],\n",
       "       [28664.76 ],\n",
       "       [61034.902],\n",
       "       [41530.22 ],\n",
       "       [53764.133],\n",
       "       [31352.105],\n",
       "       [44488.156],\n",
       "       [28555.754],\n",
       "       [38723.023],\n",
       "       [50107.945],\n",
       "       [63566.21 ],\n",
       "       [31356.326],\n",
       "       [44880.29 ],\n",
       "       [51737.97 ],\n",
       "       [68804.836],\n",
       "       [40099.992],\n",
       "       [62839.75 ],\n",
       "       [41159.63 ],\n",
       "       [37144.93 ],\n",
       "       [44866.164],\n",
       "       [44532.043],\n",
       "       [37782.27 ],\n",
       "       [47969.066],\n",
       "       [31513.312],\n",
       "       [53677.008],\n",
       "       [54276.98 ],\n",
       "       [37549.934],\n",
       "       [36904.637],\n",
       "       [46743.87 ],\n",
       "       [46901.43 ],\n",
       "       [31149.264],\n",
       "       [35982.605]], dtype=float32)"
      ]
     },
     "execution_count": 251,
     "metadata": {},
     "output_type": "execute_result"
    }
   ],
   "source": [
    "p"
   ]
  },
  {
   "cell_type": "code",
   "execution_count": 252,
   "metadata": {},
   "outputs": [],
   "source": [
    "lst=[]\n",
    "for i in p:\n",
    "    for j in i:\n",
    "        lst.append(j)"
   ]
  },
  {
   "cell_type": "code",
   "execution_count": 253,
   "metadata": {},
   "outputs": [
    {
     "data": {
      "text/plain": [
       "[46302.844,\n",
       " 45494.938,\n",
       " 63453.645,\n",
       " 32132.203,\n",
       " 61147.965,\n",
       " 62257.54,\n",
       " 52395.664,\n",
       " 54943.99,\n",
       " 52467.566,\n",
       " 47822.543,\n",
       " 38305.727,\n",
       " 57042.86,\n",
       " 44101.973,\n",
       " 39171.516,\n",
       " 40723.695,\n",
       " 55112.31,\n",
       " 49056.406,\n",
       " 17858.975,\n",
       " 60957.645,\n",
       " 49788.797,\n",
       " 41224.34,\n",
       " 52545.195,\n",
       " 51941.867,\n",
       " 38207.113,\n",
       " 41556.598,\n",
       " 38409.195,\n",
       " 63277.06,\n",
       " 48103.55,\n",
       " 23138.518,\n",
       " 52844.28,\n",
       " 54999.766,\n",
       " 46072.43,\n",
       " 41763.17,\n",
       " 57054.297,\n",
       " 42801.05,\n",
       " 40348.7,\n",
       " 61853.375,\n",
       " 30095.705,\n",
       " 41623.117,\n",
       " 39762.6,\n",
       " 56980.598,\n",
       " 61092.7,\n",
       " 47417.062,\n",
       " 36862.953,\n",
       " 53910.88,\n",
       " 44402.613,\n",
       " 34571.25,\n",
       " 41537.45,\n",
       " 51646.97,\n",
       " 47542.96,\n",
       " 41654.934,\n",
       " 31489.777,\n",
       " 37829.75,\n",
       " 41383.23,\n",
       " 45378.65,\n",
       " 48822.96,\n",
       " 59406.977,\n",
       " 44414.28,\n",
       " 44590.633,\n",
       " 37762.363,\n",
       " 64046.62,\n",
       " 43561.79,\n",
       " 22760.559,\n",
       " 55646.99,\n",
       " 41746.457,\n",
       " 54753.28,\n",
       " 59137.992,\n",
       " 33307.65,\n",
       " 42925.934,\n",
       " 47680.508,\n",
       " 60586.09,\n",
       " 28730.754,\n",
       " 59357.82,\n",
       " 55691.395,\n",
       " 59994.895,\n",
       " 22207.855,\n",
       " 41018.055,\n",
       " 49655.113,\n",
       " 32298.963,\n",
       " 60070.76,\n",
       " 42663.477,\n",
       " 30510.031,\n",
       " 35499.78,\n",
       " 44078.805,\n",
       " 50852.41,\n",
       " 37676.508,\n",
       " 37049.164,\n",
       " 30407.018,\n",
       " 39696.848,\n",
       " 35965.266,\n",
       " 29557.984,\n",
       " 36774.914,\n",
       " 30398.092,\n",
       " 40686.137,\n",
       " 31575.398,\n",
       " 49798.492,\n",
       " 45456.684,\n",
       " 50509.91,\n",
       " 43522.996,\n",
       " 54211.652,\n",
       " 46030.082,\n",
       " 29697.8,\n",
       " 53996.89,\n",
       " 58992.72,\n",
       " 25496.242,\n",
       " 48545.08,\n",
       " 42063.34,\n",
       " 41608.375,\n",
       " 44538.28,\n",
       " 39340.49,\n",
       " 39786.062,\n",
       " 49441.887,\n",
       " 39380.7,\n",
       " 43456.445,\n",
       " 52553.547,\n",
       " 53073.074,\n",
       " 66265.42,\n",
       " 48557.31,\n",
       " 40466.152,\n",
       " 28664.76,\n",
       " 61034.902,\n",
       " 41530.22,\n",
       " 53764.133,\n",
       " 31352.105,\n",
       " 44488.156,\n",
       " 28555.754,\n",
       " 38723.023,\n",
       " 50107.945,\n",
       " 63566.21,\n",
       " 31356.326,\n",
       " 44880.29,\n",
       " 51737.97,\n",
       " 68804.836,\n",
       " 40099.992,\n",
       " 62839.75,\n",
       " 41159.63,\n",
       " 37144.93,\n",
       " 44866.164,\n",
       " 44532.043,\n",
       " 37782.27,\n",
       " 47969.066,\n",
       " 31513.312,\n",
       " 53677.008,\n",
       " 54276.98,\n",
       " 37549.934,\n",
       " 36904.637,\n",
       " 46743.87,\n",
       " 46901.43,\n",
       " 31149.264,\n",
       " 35982.605]"
      ]
     },
     "execution_count": 253,
     "metadata": {},
     "output_type": "execute_result"
    }
   ],
   "source": [
    "lst"
   ]
  },
  {
   "cell_type": "code",
   "execution_count": 254,
   "metadata": {},
   "outputs": [],
   "source": [
    "lst2=[]\n",
    "for i in test:\n",
    "    for j in i:\n",
    "        lst2.append(j)"
   ]
  },
  {
   "cell_type": "code",
   "execution_count": 256,
   "metadata": {},
   "outputs": [],
   "source": [
    "model_checker=pd.DataFrame({\"pred\":lst ,\"Original\":lst2})"
   ]
  },
  {
   "cell_type": "code",
   "execution_count": 305,
   "metadata": {},
   "outputs": [
    {
     "data": {
      "text/html": [
       "<div>\n",
       "<style scoped>\n",
       "    .dataframe tbody tr th:only-of-type {\n",
       "        vertical-align: middle;\n",
       "    }\n",
       "\n",
       "    .dataframe tbody tr th {\n",
       "        vertical-align: top;\n",
       "    }\n",
       "\n",
       "    .dataframe thead th {\n",
       "        text-align: right;\n",
       "    }\n",
       "</style>\n",
       "<table border=\"1\" class=\"dataframe\">\n",
       "  <thead>\n",
       "    <tr style=\"text-align: right;\">\n",
       "      <th></th>\n",
       "      <th>pred</th>\n",
       "      <th>Original</th>\n",
       "    </tr>\n",
       "  </thead>\n",
       "  <tbody>\n",
       "    <tr>\n",
       "      <th>0</th>\n",
       "      <td>46302.843750</td>\n",
       "      <td>46082.80993</td>\n",
       "    </tr>\n",
       "    <tr>\n",
       "      <th>1</th>\n",
       "      <td>45494.937500</td>\n",
       "      <td>45058.89690</td>\n",
       "    </tr>\n",
       "    <tr>\n",
       "      <th>2</th>\n",
       "      <td>63453.644531</td>\n",
       "      <td>63079.84329</td>\n",
       "    </tr>\n",
       "    <tr>\n",
       "      <th>3</th>\n",
       "      <td>32132.203125</td>\n",
       "      <td>31837.22537</td>\n",
       "    </tr>\n",
       "    <tr>\n",
       "      <th>4</th>\n",
       "      <td>61147.964844</td>\n",
       "      <td>60461.24268</td>\n",
       "    </tr>\n",
       "    <tr>\n",
       "      <th>...</th>\n",
       "      <td>...</td>\n",
       "      <td>...</td>\n",
       "    </tr>\n",
       "    <tr>\n",
       "      <th>145</th>\n",
       "      <td>36904.636719</td>\n",
       "      <td>37076.82508</td>\n",
       "    </tr>\n",
       "    <tr>\n",
       "      <th>146</th>\n",
       "      <td>46743.871094</td>\n",
       "      <td>46635.49432</td>\n",
       "    </tr>\n",
       "    <tr>\n",
       "      <th>147</th>\n",
       "      <td>46901.429688</td>\n",
       "      <td>46892.26617</td>\n",
       "    </tr>\n",
       "    <tr>\n",
       "      <th>148</th>\n",
       "      <td>31149.263672</td>\n",
       "      <td>31249.98803</td>\n",
       "    </tr>\n",
       "    <tr>\n",
       "      <th>149</th>\n",
       "      <td>35982.605469</td>\n",
       "      <td>35784.42411</td>\n",
       "    </tr>\n",
       "  </tbody>\n",
       "</table>\n",
       "<p>150 rows × 2 columns</p>\n",
       "</div>"
      ],
      "text/plain": [
       "             pred     Original\n",
       "0    46302.843750  46082.80993\n",
       "1    45494.937500  45058.89690\n",
       "2    63453.644531  63079.84329\n",
       "3    32132.203125  31837.22537\n",
       "4    61147.964844  60461.24268\n",
       "..            ...          ...\n",
       "145  36904.636719  37076.82508\n",
       "146  46743.871094  46635.49432\n",
       "147  46901.429688  46892.26617\n",
       "148  31149.263672  31249.98803\n",
       "149  35982.605469  35784.42411\n",
       "\n",
       "[150 rows x 2 columns]"
      ]
     },
     "execution_count": 305,
     "metadata": {},
     "output_type": "execute_result"
    }
   ],
   "source": [
    "model_checker"
   ]
  },
  {
   "cell_type": "code",
   "execution_count": 306,
   "metadata": {},
   "outputs": [
    {
     "data": {
      "text/plain": [
       "pred        59137.992188\n",
       "Original    59984.163610\n",
       "Name: 66, dtype: float64"
      ]
     },
     "execution_count": 306,
     "metadata": {},
     "output_type": "execute_result"
    }
   ],
   "source": [
    "model_checker.iloc[66,:]"
   ]
  },
  {
   "cell_type": "code",
   "execution_count": 279,
   "metadata": {},
   "outputs": [],
   "source": [
    "X_Testing =np.array([1, 50, 50000, 10985, 629312])"
   ]
  },
  {
   "cell_type": "code",
   "execution_count": 280,
   "metadata": {},
   "outputs": [
    {
     "data": {
      "text/plain": [
       "Index(['Gender', 'Age', 'Annual Salary', 'Credit Card Debt', 'Net Worth'], dtype='object')"
      ]
     },
     "execution_count": 280,
     "metadata": {},
     "output_type": "execute_result"
    }
   ],
   "source": [
    "X_test.columns"
   ]
  },
  {
   "cell_type": "code",
   "execution_count": 281,
   "metadata": {},
   "outputs": [],
   "source": [
    "new=pd.DataFrame({\"Gender\":[X_Testing[0]],\n",
    "              \"Age\":[X_Testing[1]],\n",
    "              'Annual Salary':[X_Testing[2]], \n",
    "              'Credit Card Debt':[X_Testing[3]],\n",
    "              'Net Worth':[X_Testing[4]]})"
   ]
  },
  {
   "cell_type": "code",
   "execution_count": 282,
   "metadata": {},
   "outputs": [
    {
     "data": {
      "text/html": [
       "<div>\n",
       "<style scoped>\n",
       "    .dataframe tbody tr th:only-of-type {\n",
       "        vertical-align: middle;\n",
       "    }\n",
       "\n",
       "    .dataframe tbody tr th {\n",
       "        vertical-align: top;\n",
       "    }\n",
       "\n",
       "    .dataframe thead th {\n",
       "        text-align: right;\n",
       "    }\n",
       "</style>\n",
       "<table border=\"1\" class=\"dataframe\">\n",
       "  <thead>\n",
       "    <tr style=\"text-align: right;\">\n",
       "      <th></th>\n",
       "      <th>Gender</th>\n",
       "      <th>Age</th>\n",
       "      <th>Annual Salary</th>\n",
       "      <th>Credit Card Debt</th>\n",
       "      <th>Net Worth</th>\n",
       "    </tr>\n",
       "  </thead>\n",
       "  <tbody>\n",
       "    <tr>\n",
       "      <th>0</th>\n",
       "      <td>1</td>\n",
       "      <td>50</td>\n",
       "      <td>50000</td>\n",
       "      <td>10985</td>\n",
       "      <td>629312</td>\n",
       "    </tr>\n",
       "  </tbody>\n",
       "</table>\n",
       "</div>"
      ],
      "text/plain": [
       "   Gender  Age  Annual Salary  Credit Card Debt  Net Worth\n",
       "0       1   50          50000             10985     629312"
      ]
     },
     "execution_count": 282,
     "metadata": {},
     "output_type": "execute_result"
    }
   ],
   "source": [
    "new"
   ]
  },
  {
   "cell_type": "code",
   "execution_count": 283,
   "metadata": {},
   "outputs": [
    {
     "data": {
      "text/plain": [
       "pandas.core.frame.DataFrame"
      ]
     },
     "execution_count": 283,
     "metadata": {},
     "output_type": "execute_result"
    }
   ],
   "source": [
    "type(new)"
   ]
  },
  {
   "cell_type": "code",
   "execution_count": 284,
   "metadata": {},
   "outputs": [
    {
     "data": {
      "text/plain": [
       "Gender                   1\n",
       "Age                     50\n",
       "Annual Salary        50000\n",
       "Credit Card Debt     10985\n",
       "Net Worth           629312\n",
       "Name: 0, dtype: int64"
      ]
     },
     "execution_count": 284,
     "metadata": {},
     "output_type": "execute_result"
    }
   ],
   "source": [
    "new.iloc[0,:]"
   ]
  },
  {
   "cell_type": "code",
   "execution_count": 290,
   "metadata": {},
   "outputs": [],
   "source": [
    "a=sc.transform([new.iloc[0,1:]])"
   ]
  },
  {
   "cell_type": "code",
   "execution_count": 292,
   "metadata": {},
   "outputs": [
    {
     "data": {
      "text/plain": [
       "array([[ 0.52009026, -0.99518512,  0.43586487,  1.10607322]])"
      ]
     },
     "execution_count": 292,
     "metadata": {},
     "output_type": "execute_result"
    }
   ],
   "source": [
    "a"
   ]
  },
  {
   "cell_type": "code",
   "execution_count": 291,
   "metadata": {},
   "outputs": [],
   "source": [
    "predicting=[new.iloc[0,0]]"
   ]
  },
  {
   "cell_type": "code",
   "execution_count": 293,
   "metadata": {},
   "outputs": [],
   "source": [
    "for i in a:\n",
    "    for j in i:\n",
    "        predicting.append(j)"
   ]
  },
  {
   "cell_type": "code",
   "execution_count": 294,
   "metadata": {},
   "outputs": [
    {
     "data": {
      "text/plain": [
       "[1, 0.5200902634195083, -0.9951851153921326, 0.435864874419, 1.106073216703671]"
      ]
     },
     "execution_count": 294,
     "metadata": {},
     "output_type": "execute_result"
    }
   ],
   "source": [
    "predicting"
   ]
  },
  {
   "cell_type": "code",
   "execution_count": 301,
   "metadata": {},
   "outputs": [],
   "source": [
    "new_pred=model.predict(np.array([predicting]))"
   ]
  },
  {
   "cell_type": "code",
   "execution_count": 302,
   "metadata": {},
   "outputs": [],
   "source": [
    "new_pred_original=sc_y.inverse_transform(new_pred)"
   ]
  },
  {
   "cell_type": "code",
   "execution_count": 304,
   "metadata": {},
   "outputs": [
    {
     "data": {
      "text/plain": [
       "array([[46485.52]], dtype=float32)"
      ]
     },
     "execution_count": 304,
     "metadata": {},
     "output_type": "execute_result"
    }
   ],
   "source": [
    "new_pred_original"
   ]
  },
  {
   "cell_type": "code",
   "execution_count": null,
   "metadata": {},
   "outputs": [],
   "source": []
  }
 ],
 "metadata": {
  "kernelspec": {
   "display_name": "Python 3",
   "language": "python",
   "name": "python3"
  },
  "language_info": {
   "codemirror_mode": {
    "name": "ipython",
    "version": 3
   },
   "file_extension": ".py",
   "mimetype": "text/x-python",
   "name": "python",
   "nbconvert_exporter": "python",
   "pygments_lexer": "ipython3",
   "version": "3.7.9"
  }
 },
 "nbformat": 4,
 "nbformat_minor": 4
}
